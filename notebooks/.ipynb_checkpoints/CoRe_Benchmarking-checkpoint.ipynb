{
 "cells": [
  {
   "cell_type": "markdown",
   "metadata": {},
   "source": [
    "![alt text here](../web/coRe_logo.jpg)\n",
    "\n",
    "# CoRe package benchmarking\n",
    "This notebook contains the code for benchmarking core-fitness and common-essential genes (CFGs and CEGs) identified by the [CoRe R package](https://github.com/DepMap-Analytics/CoRe), respectively via the Adaptive Daisy Model (ADaM) and the Fitness Percentile (FiPer) method, against state-of-the-art sets of CFGs [1,2] and a logistic regression based method recently proposed in [3].<br>\n",
    "All the tested methods are executed on the largest integrative dataset of cancer dependencies assembled to date and presented in [4]. This encompasses data from large scale CRISPR-Cas9 screens performed at the Wellcome Sanger Institute [5] (release 1) and the Broad Institute of MIT and Harvard ([DepMap.org](https://depmap.org/), Release 20Q2) across hundreds of human cancer cell lines from multiple tissues/cancer-types.<br>\n",
    "This combined dataset is available at https://depmap.org/broad-sanger/ in two different versions resulting from two different preprocessing methods, respectively CERES [6] and CRISPRcleanR [7].<br>\n",
    "As demonstrated in [4], the CERES processed version is more suited for the identification of CFGs, thus this version is used here. This dataset is also scaled as described in [6] using reference sets of prior known essential/non-essential genes [1] (manually curated as described in [5]), prior the execution of each tested method.\n",
    "\n",
    "---\n"
   ]
  },
  {
   "cell_type": "markdown",
   "metadata": {},
   "source": [
    "# Data derivation and preparation\n",
    "Loading Libraries"
   ]
  },
  {
   "cell_type": "code",
   "execution_count": 1,
   "metadata": {},
   "outputs": [
    {
     "name": "stderr",
     "output_type": "stream",
     "text": [
      "── \u001b[1mAttaching packages\u001b[22m ─────────────────────────────────────── tidyverse 1.3.0 ──\n",
      "\n",
      "\u001b[32m✔\u001b[39m \u001b[34mggplot2\u001b[39m 3.3.1     \u001b[32m✔\u001b[39m \u001b[34mpurrr  \u001b[39m 0.3.3\n",
      "\u001b[32m✔\u001b[39m \u001b[34mtibble \u001b[39m 3.0.1     \u001b[32m✔\u001b[39m \u001b[34mdplyr  \u001b[39m 1.0.2\n",
      "\u001b[32m✔\u001b[39m \u001b[34mtidyr  \u001b[39m 1.0.2     \u001b[32m✔\u001b[39m \u001b[34mstringr\u001b[39m 1.4.0\n",
      "\u001b[32m✔\u001b[39m \u001b[34mreadr  \u001b[39m 1.3.1     \u001b[32m✔\u001b[39m \u001b[34mforcats\u001b[39m 0.5.0\n",
      "\n",
      "── \u001b[1mConflicts\u001b[22m ────────────────────────────────────────── tidyverse_conflicts() ──\n",
      "\u001b[31m✖\u001b[39m \u001b[34mdplyr\u001b[39m::\u001b[32mfilter()\u001b[39m masks \u001b[34mstats\u001b[39m::filter()\n",
      "\u001b[31m✖\u001b[39m \u001b[34mdplyr\u001b[39m::\u001b[32mlag()\u001b[39m    masks \u001b[34mstats\u001b[39m::lag()\n",
      "\n",
      "\n",
      "Attaching package: ‘magrittr’\n",
      "\n",
      "\n",
      "The following object is masked from ‘package:purrr’:\n",
      "\n",
      "    set_names\n",
      "\n",
      "\n",
      "The following object is masked from ‘package:tidyr’:\n",
      "\n",
      "    extract\n",
      "\n",
      "\n"
     ]
    }
   ],
   "source": [
    "options(warn=-1)\n",
    "\n",
    "library(tidyverse)\n",
    "library(pheatmap)\n",
    "library(CoRe)\n",
    "library(magrittr)\n",
    "library(nVennR)\n"
   ]
  },
  {
   "cell_type": "markdown",
   "metadata": {},
   "source": [
    "Loading reference sets of essential/non-essential genes from [1] manually curated as described in [7], i.e. excluding 34 genes, such as for example KRAS and CHD4, predicted to be cancer drivers by the intOGen pipeline [8,9]. These are data objects built-in the CoRe package.\n"
   ]
  },
  {
   "cell_type": "code",
   "execution_count": 2,
   "metadata": {},
   "outputs": [],
   "source": [
    "data('curated_BAGEL_essential')\n",
    "data('curated_BAGEL_nonEssential')"
   ]
  },
  {
   "cell_type": "markdown",
   "metadata": {},
   "source": [
    "Downloading the CERES processed integrated cancer dependency dataset introduced in [4] (~250MB, sit tight, this might take a bit)."
   ]
  },
  {
   "cell_type": "code",
   "execution_count": 3,
   "metadata": {},
   "outputs": [
    {
     "name": "stdout",
     "output_type": "stream",
     "text": [
      "[1] \"CERES processed joint dataset of cancer dependencies correctly downloaded\"\n"
     ]
    }
   ],
   "source": [
    "url <- 'https://www.depmap.org/broad-sanger/integrated_Sanger_Broad_essentiality_matrices_20201201.zip'\n",
    "temp <- tempfile()\n",
    "download.file(url, temp, mode=\"wb\") \n",
    "unzip(temp, exdir = 'integrated_dataset')\n",
    "unlink(temp)\n",
    "\n",
    "depFC <- read.table('integrated_dataset/integrated_Sanger_Broad_essentiality_matrices_20201201/CERES_FC.txt', \n",
    "                    row.names = 1, sep = '\\t', header = TRUE, stringsAsFactors = FALSE, check.names = FALSE)\n",
    "system('rm -r integrated_dataset')\n",
    "\n",
    "print('CERES processed joint dataset of cancer dependencies correctly downloaded')\n"
   ]
  },
  {
   "cell_type": "markdown",
   "metadata": {},
   "source": [
    "Downloading cell line annotations from the Cell Model Passports [10] (2021-Mar-26 release), removing samples containing NAs and/or corresponding to not-annotated cell-lines, assigning cell-line names as column headers, scaling and deriving binary scores of gene essentiality."
   ]
  },
  {
   "cell_type": "code",
   "execution_count": 4,
   "metadata": {},
   "outputs": [
    {
     "name": "stderr",
     "output_type": "stream",
     "text": [
      "Parsed with column specification:\n",
      "cols(\n",
      "  .default = col_character(),\n",
      "  pmed = \u001b[32mcol_double()\u001b[39m,\n",
      "  mutational_burden = \u001b[32mcol_double()\u001b[39m,\n",
      "  ploidy = \u001b[32mcol_double()\u001b[39m,\n",
      "  mutation_data = \u001b[33mcol_logical()\u001b[39m,\n",
      "  methylation_data = \u001b[33mcol_logical()\u001b[39m,\n",
      "  expression_data = \u001b[33mcol_logical()\u001b[39m,\n",
      "  cnv_data = \u001b[33mcol_logical()\u001b[39m,\n",
      "  crispr_ko_data = \u001b[33mcol_logical()\u001b[39m,\n",
      "  fusion_data = \u001b[33mcol_logical()\u001b[39m,\n",
      "  drug_data = \u001b[33mcol_logical()\u001b[39m,\n",
      "  rnaseq_data = \u001b[33mcol_logical()\u001b[39m,\n",
      "  age_at_sampling = \u001b[32mcol_double()\u001b[39m,\n",
      "  sampling_day = \u001b[32mcol_double()\u001b[39m,\n",
      "  sampling_month = \u001b[32mcol_double()\u001b[39m,\n",
      "  sampling_year = \u001b[32mcol_double()\u001b[39m\n",
      ")\n",
      "\n",
      "See spec(...) for full column specifications.\n",
      "\n"
     ]
    },
    {
     "name": "stdout",
     "output_type": "stream",
     "text": [
      "[1] \"Done: quantitative and binary dependency matrices have been created\"\n",
      "[1] \"(accounting for 17486 genes and 855 cell lines\"\n"
     ]
    }
   ],
   "source": [
    "## downloading cell lines' annotations\n",
    "clannotation<-CoRe.download_AnnotationModel(URL='https://cog.sanger.ac.uk/cmp/download/model_list_20210326.csv')\n",
    "\n",
    "## removing samples with NAs or not annotated\n",
    "depFC <- depFC[,-which(is.na(colSums(depFC)))]\n",
    "cells <- colnames(depFC)\n",
    "\n",
    "tot_id <- clannotation %>% filter(model_id %in% cells | BROAD_ID %in% cells) %>% \n",
    "  select(model_name,model_id,BROAD_ID) %>% \n",
    "  pivot_longer(cols = c(\"model_id\",\"BROAD_ID\"), names_to = \"institute\", values_to = \"model_id\") %>% \n",
    "  select(model_name,model_id) %>% filter(model_id %in% cells) %>% \n",
    "  arrange(factor(model_id, levels = cells))\n",
    "\n",
    "depFC <- depFC[,which(cells %in% tot_id$model_id)]\n",
    "\n",
    "## assigning cell line names as column headers\n",
    "colnames(depFC) <- tot_id$model_name\n",
    "\n",
    "## scaling\n",
    "scaled_depFC <- CoRe.scale_to_essentials(depFC,curated_BAGEL_essential,curated_BAGEL_nonEssential)\n",
    "\n",
    "## deriving binary essentiality scores\n",
    "bdep <- apply(scaled_depFC, 2, function(x){\n",
    "  x[which(x >= -0.5)] <- 0\n",
    "  x[which(x < -0.5)] <- 1\n",
    "  x\n",
    "})\n",
    "\n",
    "print('Done: quantitative and binary dependency matrices have been created')\n",
    "print(paste('(accounting for',dim(bdep)[1],'genes and',dim(bdep)[2],'cell lines'))\n"
   ]
  },
  {
   "cell_type": "markdown",
   "metadata": {},
   "source": [
    "# Computation of pan-cancer core-fitness genes with CoRe\n",
    "\n",
    "## Executing ADaM at the pan-cancer level\n",
    "ADaM is executed in the two step modality described in the manuscript, considering in the initial steps cancer tissues with dependency data for at least 15 cell lines, in turn."
   ]
  },
  {
   "cell_type": "code",
   "execution_count": 5,
   "metadata": {
    "scrolled": true
   },
   "outputs": [
    {
     "name": "stdout",
     "output_type": "stream",
     "text": [
      "[1] \"ADaM will be executed at the tissue type level on the following tissue lineages:\"\n",
      " [1] \"Biliary Tract\"               \"Bladder\"                    \n",
      " [3] \"Bone\"                        \"Breast\"                     \n",
      " [5] \"Central Nervous System\"      \"Endometrium\"                \n",
      " [7] \"Esophagus\"                   \"Haematopoietic and Lymphoid\"\n",
      " [9] \"Head and Neck\"               \"Kidney\"                     \n",
      "[11] \"Large Intestine\"             \"Liver\"                      \n",
      "[13] \"Lung\"                        \"Ovary\"                      \n",
      "[15] \"Pancreas\"                    \"Peripheral Nervous System\"  \n",
      "[17] \"Skin\"                        \"Soft Tissue\"                \n",
      "[19] \"Stomach\"                    \n"
     ]
    }
   ],
   "source": [
    "## determining tissues with at least 15 cell lines in the dependency matrix\n",
    "tissues_ctypes<-\n",
    "  names(which(summary(as.factor(clannotation$tissue[match(colnames(bdep),clannotation$model_name)]))>=15))\n",
    "\n",
    "print('ADaM will be executed at the tissue type level on the following tissue lineages:')\n",
    "print(tissues_ctypes)"
   ]
  },
  {
   "cell_type": "markdown",
   "metadata": {},
   "source": [
    "ADaM is executed at the pan-cancer level using the wrapper function built-in the CoRe package using the binary dependency matrix in input. This will take about 5mins on a common laptop. "
   ]
  },
  {
   "cell_type": "code",
   "execution_count": 6,
   "metadata": {},
   "outputs": [],
   "source": [
    "ADaM <- CoRe.PanCancer_ADaM(bdep,\n",
    "                            tissues_ctypes,\n",
    "                            clannotation = clannotation,\n",
    "                            display=FALSE,\n",
    "                            ntrials=1000,\n",
    "                            verbose=FALSE,\n",
    "                            TruePositives = curated_BAGEL_essential)\n",
    "\n",
    "print(paste('Done: ADaM has identified',length(ADaM),'CFGs'))"
   ]
  },
  {
   "cell_type": "markdown",
   "metadata": {},
   "source": [
    "## Executing the FiPer variants\n",
    "All the variants of the FiPer method are executed on the quantitative cancer dependency matrix. A consensual set of predicted CEGs obtained by intersecting the output of the three less stringent variants is also assembled."
   ]
  },
  {
   "cell_type": "code",
   "execution_count": 30,
   "metadata": {},
   "outputs": [
    {
     "name": "stdout",
     "output_type": "stream",
     "text": [
      "[1] \"Done\"\n"
     ]
    }
   ],
   "source": [
    "## FiPer with fixed strategy\n",
    "Perc_fixed <- CoRe.FiPer(scaled_depFC,\n",
    "                         display=FALSE,\n",
    "                         method = 'fixed')$cfgenes\n",
    "\n",
    "## FiPer with average strategy\n",
    "Perc_avg <- CoRe.FiPer(scaled_depFC,\n",
    "                       display=FALSE,\n",
    "                       method = 'average')$cfgenes\n",
    "\n",
    "## FiPer with slope strategy\n",
    "Perc_slope <- CoRe.FiPer(scaled_depFC,\n",
    "                         display=FALSE,\n",
    "                         method = 'slope')$cfgenes\n",
    "\n",
    "## Fiper with AUC strategy\n",
    "Perc_AUC <- CoRe.FiPer(scaled_depFC,\n",
    "                       display=FALSE,\n",
    "                       method = 'AUC')$cfgenes\n",
    "\n",
    "## consensual core-fitness genes across the three less stringent variants\n",
    "Perc_Consensus <- Reduce(intersect,list(Perc_fixed,Perc_slope,Perc_AUC))\n",
    "\n",
    "print('Done')"
   ]
  },
  {
   "cell_type": "markdown",
   "metadata": {},
   "source": [
    "## Loading/Preparing state-of-the-art and obtained with a logistic regression method CFGs\n",
    " \n",
    "The following state-of-the-art sets of CFGs are benchmarked: \n",
    "\n",
    "1. Hart2014\n",
    "    + a set of 360 genes assembled by applying a linear algebra approach to a large collection of shRNA gene dependency profiles. This set is presented in [1] and it is used as a classification template by BAGEL: a supervised computational framework for quantifying  gene essentiality significance in pooled library screens [11,12];   \n",
    "2. Hart2017\n",
    "    + an expanded set of 684 genes obtained by reanalyzing with BAGEL 17 genome-scale knockout screens in human cell lines performed with different libraries, introduced in [2];<br>\n",
    "3. Behan2019\n",
    "    + a set of 553 genes presented in [5] and obtained by running ADaM on a large collection of gene dependency profiles from CRISPR-screens of 325 human cancer cell lines from different tissue-lineages/cancer-types (now part of the [Project Score](https://score.depmap.sanger.ac.uk/) database [13]), using a manually curated version of the Hart2014 set, as training. This was obtained by excluding from the Hart2014 set 34 genes, such as for example KRAS and CHD4, predicted to be cancer drivers by the intOGen pipeline [8,9];<br>\n",
    "4. Sharma2020\n",
    "    + a set of 519 genes presented in [3] and identified using a logistic regression approach (part of the CEN-tools software), which uses the BAGEL essential/never-essential genes as training, respectively the Hart2017 set and a set of 927 never-essential genes[11,12]. In [3], this approach was individually applied to the dependency profiles from [Project Score](https://score.depmap.sanger.ac.uk/)(Release 1) and from the [Broad DepMap portal]{https://depmap.org/portal/} (Release 19Q2). The final set was composed of genes predicted as CFGs in the two analyses and excluded those in the training set.<br>\n"
   ]
  },
  {
   "cell_type": "code",
   "execution_count": 31,
   "metadata": {},
   "outputs": [
    {
     "name": "stdout",
     "output_type": "stream",
     "text": [
      "[1] \"Loaded 360 CFGs from Hart2014\"\n",
      "[1] \"Loaded 684 CFGs from Hart2017\"\n",
      "[1] \"Loaded 553 CFGs from Behan2019\"\n",
      "[1] \"Loaded 519 CFGs from Sharma2020\"\n"
     ]
    }
   ],
   "source": [
    "## Hart2014 (built-in the CoRe package)\n",
    "data(BAGEL_essential)\n",
    "Hart_2014<-BAGEL_essential\n",
    "\n",
    "## Hart2017\n",
    "load('data/BAGEL_v2_ESSENTIAL_GENES.RData')\n",
    "Hart_2017<-BAGEL_essential\n",
    "\n",
    "## Behan2019\n",
    "load('data/ADaM_CFs_Behan_et_Al_2019.RData')\n",
    "Behan_2019<-PanCancerCoreFitnessGenes\n",
    "\n",
    "## Sharma2020\n",
    "Sharma_2020<-read.table(file = 'data/CenTools_essential_Sharma_et_al.txt',sep='\\t',stringsAsFactors = FALSE)$V1\n",
    "\n",
    "print(paste('Loaded',length(Hart_2014),'CFGs from Hart2014'))\n",
    "print(paste('Loaded',length(Hart_2017),'CFGs from Hart2017'))\n",
    "print(paste('Loaded',length(Behan_2019),'CFGs from Behan2019'))\n",
    "print(paste('Loaded',length(Sharma_2020),'CFGs from Sharma2020'))\n",
    "\n"
   ]
  },
  {
   "cell_type": "markdown",
   "metadata": {},
   "source": [
    "<span style=\"color: red;\">Essential genes obtained with the Logistic Regression based method part of the CEN-tools software (Alessandro please amend this and the code below).</span>"
   ]
  },
  {
   "cell_type": "code",
   "execution_count": 32,
   "metadata": {},
   "outputs": [
    {
     "name": "stdout",
     "output_type": "stream",
     "text": [
      "[1] \"Computed 755 CFGs via the logistic regression based method (part of CEN-tools)\"\n"
     ]
    }
   ],
   "source": [
    "## Essentials genes obtained with CENtools using BAGEL curated genes as reference sets (default nº bin = 20)\n",
    "load('data/CENtools_Essentials.RData')\n",
    "\n",
    "## CENtools\n",
    "CENtools <- CENtools_ess\n",
    "\n",
    "print(paste('Computed',length(CENtools),'CFGs via the logistic regression based method (part of CEN-tools)'))"
   ]
  },
  {
   "cell_type": "markdown",
   "metadata": {},
   "source": [
    "Assembling all CFGs in a unique list and creating a vector of colors to be used in the plots"
   ]
  },
  {
   "cell_type": "code",
   "execution_count": 38,
   "metadata": {},
   "outputs": [],
   "source": [
    "## Assembling all CFGs in a unique list and creating a vector of colors to be used in the plots\n",
    "CFs_sets<-list(Hart_2014,\n",
    "               Hart_2017,\n",
    "               Behan_2019,\n",
    "               Sharma_2020,\n",
    "               CENtools,\n",
    "               ADaM,\n",
    "               Perc_avg,\n",
    "               Perc_Consensus,\n",
    "               Perc_slope,\n",
    "               Perc_AUC,\n",
    "               Perc_fixed)\n",
    "\n",
    "names(CFs_sets)<-c('Hart 2014',\n",
    "                   'Hart 2017',\n",
    "                   'ADaM (Behan 2019)',\n",
    "                   'CEN-tools (Sharma 2020)',\n",
    "                   'CEN-tools',\n",
    "                   'ADaM',\n",
    "                   'FiPer Average',\n",
    "                   'FiPer Consensual',\n",
    "                   'FiPer Slope',\n",
    "                   'FiPer AUC',\n",
    "                   'FiPer Fixed')\n",
    "\n",
    "col=c(\"#03B2C8\",\"#034DD9\",\"#E6AB02\",\"#1B9E77\",\"#337100\",\"#FC8D62\",\n",
    "      '#F4CAE4','#800080','#CAB2D6','#BEBADA','#777892')\n",
    "names(col)<-names(CFs_sets)\n"
   ]
  },
  {
   "cell_type": "markdown",
   "metadata": {},
   "source": [
    "Assembling a set of genes included in one of the sets used as training set by at least one method"
   ]
  },
  {
   "cell_type": "code",
   "execution_count": 34,
   "metadata": {},
   "outputs": [
    {
     "name": "stdout",
     "output_type": "stream",
     "text": [
      "[1] \"1771 genes used for training by at least one method\"\n"
     ]
    }
   ],
   "source": [
    "TrainingSets<-unique(c(BAGEL_essential,\n",
    "                       BAGEL_nonEssential,\n",
    "                       curated_BAGEL_essential,\n",
    "                       curated_BAGEL_nonEssential))\n",
    "\n",
    "print(paste(length(TrainingSets),'genes used for training by at least one method'))"
   ]
  },
  {
   "cell_type": "markdown",
   "metadata": {},
   "source": [
    "Creating a list of putative novel CFGs by removing the training genes from the sets of predicted CFGs"
   ]
  },
  {
   "cell_type": "code",
   "execution_count": 35,
   "metadata": {},
   "outputs": [],
   "source": [
    "novelCFs_sets<-lapply(CFs_sets,function(x){\n",
    "  setdiff(x,TrainingSets)\n",
    "})"
   ]
  },
  {
   "cell_type": "markdown",
   "metadata": {},
   "source": [
    "Comparing and plotting CFG sets' sizes."
   ]
  },
  {
   "cell_type": "code",
   "execution_count": 37,
   "metadata": {},
   "outputs": [
    {
     "name": "stdout",
     "output_type": "stream",
     "text": [
      "[1] \"novel hits:\"\n",
      "              FiPer AUC             FiPer Fixed             FiPer Slope \n",
      "                   1262                    1227                    1003 \n",
      "       FiPer Consensual           FiPer Average                    ADaM \n",
      "                    975                     743                     460 \n",
      "CEN-tools (Sharma 2020)               CEN-tools       ADaM (Behan 2019) \n",
      "                    441                     378                     157 \n",
      "              Hart 2014               Hart 2017 \n",
      "                     17                       0 \n",
      "[1] \"Unsupervised method all hits:\"\n",
      "FiPer Average   FiPer Slope     FiPer AUC   FiPer Fixed \n",
      "         1424          1704          1987          1947 \n",
      "[1] 1825.5\n",
      "[1] \"Unsupervised method novel hits:\"\n",
      "FiPer Average   FiPer Slope     FiPer AUC   FiPer Fixed \n",
      "          743          1003          1262          1227 \n",
      "[1] 1115\n",
      "[1] \"FiPer consensual n.genes (total):  1673\"\n",
      "[1] \"FiPer consensual n.genes (novel hits): 975\"\n"
     ]
    },
    {
     "data": {
      "image/png": "[encoded data removed]",
      "text/plain": [
       "plot without title"
      ]
     },
     "metadata": {
      "image/png": {
       "height": 420,
       "width": 420
      }
     },
     "output_type": "display_data"
    }
   ],
   "source": [
    "GeneLengths<-unlist(lapply(CFs_sets,length))\n",
    "novelGeneLengths<-unlist(lapply(novelCFs_sets,length))\n",
    "\n",
    "print('novel hits:')\n",
    "print(sort(novelGeneLengths,decreasing=TRUE))\n",
    "\n",
    "print('Unsupervised method all hits:')\n",
    "print(GeneLengths[c('FiPer Average','FiPer Slope','FiPer AUC','FiPer Fixed')])\n",
    "print(median(GeneLengths[c('FiPer Average','FiPer Slope','FiPer AUC','FiPer Fixed')]))\n",
    "\n",
    "print('Unsupervised method novel hits:')\n",
    "print(novelGeneLengths[c('FiPer Average','FiPer Slope','FiPer AUC','FiPer Fixed')])\n",
    "print(median(novelGeneLengths[c('FiPer Average','FiPer Slope','FiPer AUC','FiPer Fixed')]))\n",
    "\n",
    "print(paste('FiPer consensual n.genes (total): ',length(CFs_sets$`FiPer Consensual`)))\n",
    "print(paste('FiPer consensual n.genes (novel hits):',length(novelCFs_sets$`FiPer Consensual`)))\n",
    "\n",
    "par(mar=c(4,12,2,2))\n",
    "barplot(rbind(novelGeneLengths,GeneLengths-novelGeneLengths),\n",
    "        las=2,border = FALSE,horiz = TRUE,xlim=c(0,2300),\n",
    "        xlab='n. genes')\n",
    "\n",
    "legend('bottomright',legend = c('Training sets','(Hart2017 + curated Hart2014)'),\n",
    "       fill=c('lightgray',NA),border=NA,bty = 'n')\n"
   ]
  },
  {
   "cell_type": "markdown",
   "metadata": {},
   "source": [
    "Computing Recall rates of state-of-the-art sets of CFGs."
   ]
  },
  {
   "cell_type": "code",
   "execution_count": 47,
   "metadata": {},
   "outputs": [
    {
     "name": "stdout",
     "output_type": "stream",
     "text": [
      "[1] \"ADaM median Recall across prior known sets: 77.2453774127032\"\n",
      "[1] \"FiPer median Recall across prior known sets avg across variants: 89.3199562221082\"\n"
     ]
    },
    {
     "data": {
      "image/png": "[encoded data removed]",
      "text/plain": [
       "Plot with title “Recall of prior sets of CFGs”"
      ]
     },
     "metadata": {
      "image/png": {
       "height": 420,
       "width": 420
      }
     },
     "output_type": "display_data"
    }
   ],
   "source": [
    "Recall_Hart2014<-unlist(lapply(CFs_sets,function(x){\n",
    "  100*length(intersect(x,CFs_sets$`Hart 2014`))/length(CFs_sets$`Hart 2014`)\n",
    "}))\n",
    "\n",
    "Recall_Hart2017<-unlist(lapply(CFs_sets,function(x){\n",
    "  100*length(intersect(x,CFs_sets$`Hart 2017`))/length(CFs_sets$`Hart 2017`)\n",
    "}))\n",
    "\n",
    "Recall_Behan2019<-unlist(lapply(CFs_sets,function(x){\n",
    "  100*length(intersect(x,CFs_sets$`ADaM (Behan 2019)`))/length(CFs_sets$`ADaM (Behan 2019)`)\n",
    "}))\n",
    "\n",
    "Recall_Sharma2020<-unlist(lapply(CFs_sets,function(x){\n",
    "  100*length(intersect(x,CFs_sets$`CEN-tools (Sharma 2020)`))/length(CFs_sets$`CEN-tools (Sharma 2020)`)\n",
    "}))\n",
    "\n",
    "\n",
    "\n",
    "Recalls<-rbind(Recall_Hart2014[6:11],Recall_Hart2017[6:11],Recall_Behan2019[6:11],Recall_Sharma2020[6:11])\n",
    "rownames(Recalls)<-c('Hart2014','Hart2017','Behan2019','Sharma2020')\n",
    "## creating some space for displaying the legend \n",
    "Recalls<-rbind(Recalls,rep(NA,6))\n",
    "Recalls<-rbind(Recalls,rep(NA,6))\n",
    "\n",
    "\n",
    "par(mar=c(6,4,2,1))\n",
    "barplot(t(Recalls),beside = TRUE,col=col[names(CFs_sets)[6:11]],ylim=c(0,100),ylab='%',\n",
    "        border=FALSE,main='Recall of prior sets of CFGs',las=2)\n",
    "legend('right',names(CFs_sets)[6:11],cex=0.9,fill=col[names(CFs_sets)[6:11]],border=NA,bty = 'n')\n",
    "\n",
    "print(paste('ADaM median Recall across prior known sets:',median(Recalls[,'ADaM'],na.rm = TRUE)))\n",
    "print(paste('FiPer median Recall across prior known sets avg across variants:',\n",
    "            mean(apply(Recalls[,2:6],MARGIN = 2,median,na.rm = TRUE))))\n"
   ]
  },
  {
   "cell_type": "markdown",
   "metadata": {},
   "source": [
    "<span style=\"color: red;\">Please do not work over this point</span>"
   ]
  },
  {
   "cell_type": "markdown",
   "metadata": {},
   "source": [
    "Adding training sets to Sharma2020 and CENtools predictions to explore overall sets similarities"
   ]
  },
  {
   "cell_type": "code",
   "execution_count": null,
   "metadata": {},
   "outputs": [],
   "source": [
    "par(mar=c(8,6,4,4))\n",
    "barplot(unlist(lapply(CFs_sets,length)),ylab='n. genes',las=2,border = FALSE,col=col[names(CFs_sets)],\n",
    "        cex.lab = 1.4, cex.main = 2, ylim = c(0,2500))\n",
    "\n",
    "\n",
    "##### CF gene set similarity\n",
    "allEss<-unique(unlist(CFs_sets))\n",
    "membMat<-do.call(rbind,lapply(CFs_sets,function(x){is.element(allEss,x)}))\n",
    "rownames(membMat)<-names(CFs_sets)\n",
    "colnames(membMat)<-allEss\n",
    "membMat<-membMat+0\n",
    "\n",
    "pheatmap(membMat,show_colnames = FALSE,clustering_distance_rows = 'binary',cluster_cols = FALSE,border_color = NA,\n",
    "         main = 'Similarity across sets')\n",
    "\n",
    "dmat<-dist(membMat,method = 'binary')\n",
    "\n",
    "pheatmap(1-as.matrix(dmat), main = 'JS for Pan-cancer core fitness genes across methods', \n",
    "         legend = FALSE,display_numbers = round(dmat,digits = 2))"
   ]
  },
  {
   "cell_type": "markdown",
   "metadata": {},
   "source": [
    "## Baseline predictor\n",
    "\n",
    "A baseline predictor is defined by considering CF genes those essential in at least n cell lines for all n. We compute the recall of this predictor using independent sets of a priori known essential genes (i.e. those involved in housekeeping cellular processes like translation or replication) [1-2]. <br>\n",
    "In addition, gene dependencies associated with a biomarker are very specific to the molecular context, therefore, these genes classified as CF are deemed false positives (FP). In the FP set are included also the non-expressed genes. We compute the recall of these FP genes for the baseline predictor.\n",
    "\n",
    "__References__ <br>\n",
    "[1]\tF. Iorio et al., “Unsupervised correction of gene-independent cell responses to CRISPR-Cas9 targeting,” BMC Genomics, 2018, doi: 10.1186/s12864-018-4989-y. <br>\n",
    "[2]\tC. Pacini et al., “Integrated cross-study datasets of genetic dependencies in cancer,” Nat. Commun., vol. 12, no. 1, p. 1661, 2021, doi: 10.1038/s41467-021-21898-7."
   ]
  },
  {
   "cell_type": "code",
   "execution_count": null,
   "metadata": {},
   "outputs": [],
   "source": [
    "##### Ability to identify novel hits\n",
    "CFs_sets<-list(Behan_2019 = ADaM_2019,\n",
    "               Sharma_2020 = CENtools_2020,\n",
    "               CENtools = CENtools_SV1_B20Q2_CERES,\n",
    "               ADaM = ADaM,\n",
    "               F_Perc_avg = Perc_avg,\n",
    "               F_Perc_Cons_lax = Perc_Consensus,\n",
    "               F_Perc_slope = Perc_slope,\n",
    "               F_Perc_AUC = Perc_AUC,\n",
    "               F_Perc_fixed = Perc_fixed)\n",
    "\n",
    "## Assembling a set of prior known essential genes that are not included in the\n",
    "## training sets used by CENtools and/or ADaM\n",
    "data(EssGenes.DNA_REPLICATION_cons)\n",
    "data(EssGenes.KEGG_rna_polymerase)\n",
    "data(EssGenes.PROTEASOME_cons)\n",
    "data(EssGenes.SPLICEOSOME_cons)\n",
    "data(EssGenes.ribosomalProteins)\n",
    "data(EssGenes.HISTONES)\n",
    "\n",
    "signatures<-list(DNA_REPLICATION=EssGenes.DNA_REPLICATION_cons,\n",
    "                 RNA_POLYMERASE=EssGenes.KEGG_rna_polymerase,\n",
    "                 PROTEASOME=EssGenes.PROTEASOME_cons,\n",
    "                 SPLICEOSOME=EssGenes.SPLICEOSOME_cons,\n",
    "                 RIBOSOMAL_PROTS=EssGenes.ribosomalProteins,\n",
    "                 HISTONES=EssGenes.HISTONES)\n",
    "\n",
    "signatures<-unique(unlist(signatures))\n",
    "\n",
    "geneSet <- rownames(scaled_depFC)\n",
    "\n",
    "## Adding additional signatures in Pacini et al, 2020\n",
    "load(\"data/Kegg.DNArep.Rdata\")\n",
    "load(\"data/Kegg.Ribosome.Rdata\")\n",
    "load(\"data/Kegg.Proteasome.Rdata\")\n",
    "load(\"data/Kegg.Spliceosome.Rdata\")\n",
    "load(\"data/Kegg.RNApoly.Rdata\")\n",
    "load(\"data/Histones.Rdata\")\n",
    "\n",
    "allRefEss<-unique(c(Kegg.DNArep,Kegg.Proteasome,Kegg.Ribosome,Kegg.RNApoly,Kegg.Spliceosome,Histones))\n",
    "\n",
    "signatures<-union(signatures,allRefEss)\n",
    "signatures <- intersect(signatures,geneSet)\n",
    "\n",
    "## training sets used by ADaM/CENtools while executed on the new joint dataset\n",
    "## and by ADaM on the old dataset\n",
    "BAG_genes <- unique(c(curated_BAGEL_essential,\n",
    "                      curated_BAGEL_nonEssential,\n",
    "                      BAGEL_essential,\n",
    "                      BAGEL_nonEssential))\n",
    "\n",
    "## removing training sets used by ADaM/CENtools while executed on the new joint dataset\n",
    "## and by ADaM on the old dataset\n",
    "signatures <- setdiff(signatures,BAG_genes)\n",
    "geneSet_noBAG <- setdiff(geneSet,BAG_genes)\n",
    "\n",
    "## baseline predictor\n",
    "baselineCFs <- lapply(1:ncol(bdep),function(x){\n",
    "  names(which(rowSums(bdep)>=x))\n",
    "})\n",
    "\n",
    "baselineSizes<-unlist(lapply(baselineCFs,length))\n",
    "\n",
    "baselineRecalls<-100*unlist(lapply(baselineCFs,function(x){\n",
    "  length(intersect(x,signatures))/length(signatures)\n",
    "}))\n",
    "\n",
    "load('data/CMP_RNAseq.Rdata')\n",
    "\n",
    "## genes not expressed\n",
    "lowlyExp<-names(which(rowSums(CMP_RNAseq<0.01,na.rm=TRUE)>=ncol(CMP_RNAseq)))\n",
    "\n",
    "## dependency associated with biomarkers\n",
    "FPs <- sort(unique(unlist(read.table('data/dependency_with_biomarkers.txt',stringsAsFactors = FALSE))))\n",
    "FPs <- union(FPs,lowlyExp)\n",
    "FPs <- intersect(FPs,geneSet_noBAG)\n",
    "\n",
    "baselineNEratio<-100*unlist(lapply(baselineCFs,function(x){\n",
    "  length(intersect(x,FPs))/length(FPs)\n",
    "}))\n",
    "\n",
    "plot(baselineSizes,xlab='Baseline predictor of CF genes (essentials in >= n cell lines)', \n",
    "     ylab='n. of predicted CF genes',pch=16,log='y',main = 'BAGEL genes removed')\n",
    "\n",
    "plot(baselineRecalls,xlab='Baseline predictor of CF genes (essentials in >= n cell lines)',\n",
    "     ylab='% Recall of prior known essential genes not used for training',pch=16)\n",
    "\n",
    "plot(baselineNEratio,xlab='Baseline predictor of CF genes (essentials in >= n cell lines)',\n",
    "     ylab='% Recall of FP genes (associated with a biomarker or lowly expressed)',pch=16)"
   ]
  },
  {
   "cell_type": "markdown",
   "metadata": {},
   "source": [
    "## Comparison between method considering novel hits\n",
    "\n",
    "The metrics derived from the baseline predictors are then used to assess the CF sets predicted by each method. We consider the CF sets without the BAGEL genes used for the training of CEN-tools, namely BAGEL essential version 2 and non-essential used for Sharma_2020 set, and curated BAGEL essential and non-essential used for CENtools set. <br>\n",
    "In the first plot, we normalised the recall of the signatures by the maximum recall achieved by the baseline predictor. The 90-th percentile variants have a higher ratio since they are less stringent. <br>\n",
    "In the second plot, we show the recall ratio of the FP genes. ADaM and CEN-tools tend to show a higher stringency than the 90-th percentile variants, though the 'average' variant ratio is close to the ADaM and CEN-tools sets. <br>"
   ]
  },
  {
   "cell_type": "code",
   "execution_count": null,
   "metadata": {},
   "outputs": [],
   "source": [
    "fCFs_sets <- lapply(CFs_sets,function(x){\n",
    "  setdiff(x,BAG_genes)\n",
    "})\n",
    "\n",
    "observed_recalls<-100*unlist(lapply(fCFs_sets,\n",
    "                                    function(x){length(intersect(x,signatures))/length(signatures)}))\n",
    "\n",
    "observed_FPs<-100*unlist(lapply(fCFs_sets,\n",
    "                                function(x){length(intersect(x,FPs))/length(FPs)}))\n",
    "\n",
    "par(mar=c(8,6,4,4))\n",
    "barplot(observed_recalls/max(baselineRecalls),col=col[names(observed_recalls)],\n",
    "        las=2,ylab='Recall / (max Recall)',border=NA,main = 'Prior known essential not included in training')\n",
    "\n",
    "barplot(observed_FPs/max(baselineNEratio),col=col[names(observed_FPs)],\n",
    "        las=2,ylab='Recall / (max Recall)', border=NA, main = 'False positive CFs')"
   ]
  },
  {
   "cell_type": "markdown",
   "metadata": {},
   "source": [
    "However, in order to have a fair comparison between the methods, we need to compare both the recall of prior known essential genes (from here on referred as true positive, TP) and the recall of FP genes to the baseline predictor. To do so we draw the relationship between TP and FP genes for the baseline predictor and show where each method stand. This approach shows that the 90-th percentile variants are more stringent than CEN-tools and ADaM when the size of predicted CF genes is taken into account."
   ]
  },
  {
   "cell_type": "code",
   "execution_count": null,
   "metadata": {},
   "outputs": [],
   "source": [
    "plot(spline(baselineRecalls,baselineNEratio),pch=16,\n",
    "     xlab='% Recall of prior known essentials',\n",
    "     ylab='% Recall of selective essentials (associated with a biomarker)',type='l',lwd=4,\n",
    "     xlim=c(10,50),ylim=c(0,6))\n",
    "\n",
    "points(observed_recalls,observed_FPs,col=col[names(observed_FPs)],pch=16,cex=2)\n",
    "\n",
    "s0fun<-splinefun(baselineRecalls,baselineNEratio)\n",
    "\n",
    "par(mar=c(8,6,4,4))\n",
    "barplot(observed_FPs/s0fun(observed_recalls),col=col[names(observed_FPs)],\n",
    "        las=2,border=NA,ylab='False CFs at fixed Recall of TPs / baseline')\n",
    "abline(h=1,lty=2)"
   ]
  },
  {
   "cell_type": "markdown",
   "metadata": {},
   "source": [
    "In the first plot, we show the threshold required by the baseline classifier to attain the observed recalls for each method. Although the 90-th percentile variants have lower threshold, they score higher when considering the median dependent cell lines of their CFs compared to the baseline classifier as shown in the second plot. This means that the predicted CF genes tend to be essential in a larger number of cell lines compared to CEN-tools and ADaM."
   ]
  },
  {
   "cell_type": "code",
   "execution_count": null,
   "metadata": {},
   "outputs": [],
   "source": [
    "baselineRecalls<-100*unlist(lapply(baselineCFs,function(x){\n",
    "  length(intersect(x,signatures))/length(signatures)\n",
    "}))\n",
    "\n",
    "par(mar=c(8,6,4,2))\n",
    "plot(baselineRecalls,xlab='Baseline predictor of CF genes (essentials in >= n cell lines)',\n",
    "     ylab='% Recall of prior known essential genes not used for training',pch=16)\n",
    "\n",
    "s0fun<-splinefun(baselineRecalls,1:length(baselineRecalls))\n",
    "abline(v=s0fun(observed_recalls),col=col[names(observed_recalls)],lwd=2)\n",
    "\n",
    "baseline_dep_cell_lines<-s0fun(observed_recalls)\n",
    "\n",
    "median_n_dependent_cell_lines<-\n",
    "  unlist(lapply(fCFs_sets,function(x){median(rowSums(bdep[intersect(x,geneSet),]))}))\n",
    "\n",
    "barplot(median_n_dependent_cell_lines/baseline_dep_cell_lines,col=col[names(median_n_dependent_cell_lines)],\n",
    "        las=2, border=NA,main = 'Median dependent cell lines on the CFs / baseline', ylab = 'ratio')\n",
    "abline(h=1,lty=2)"
   ]
  },
  {
   "cell_type": "markdown",
   "metadata": {},
   "source": [
    "In the first plot, we show the median fitness effect of the CF genes predicted by each method relative to the baseline predictor. CF genes predicted by the 90-th percentile variants have higher fitness score compared to ADaM and CEN-tools. This can be explained by the lower stringency of these methods that include genes with higher fitness score, therefore diluting the signal. <br>\n",
    "In the second plot, we show the number of CF genes for each method compared to the baseline predictor."
   ]
  },
  {
   "cell_type": "code",
   "execution_count": null,
   "metadata": {},
   "outputs": [],
   "source": [
    "observed_sizes<-lapply(CFs_sets,length)\n",
    "\n",
    "median_dep <- unlist(lapply(CFs_sets,\n",
    "                function(x){median(apply(scaled_depFC[intersect(x,geneSet_noBAG),],1,median))}))\n",
    "\n",
    "baseline_dep <- unlist(lapply(baselineCFs[round(s0fun(observed_recalls))],\n",
    "                function(x){median(apply(scaled_depFC[intersect(x,geneSet_noBAG),],1,median))}))\n",
    "\n",
    "par(mar=c(8,6,4,2))\n",
    "barplot(median_dep/baseline_dep,col=col[names(median_dep)],\n",
    "        las=2,main = 'Median CFs fitness effect / baseline', border=NA, ylab = 'ratio')\n",
    "abline(h=1,lty=2)\n",
    "\n",
    "baseline_size<-unlist(lapply(baselineCFs[round(s0fun(observed_recalls))],length))\n",
    "observed_sizes<-unlist(observed_sizes)\n",
    "\n",
    "barplot(observed_sizes/baseline_size,col=col[names(observed_sizes)],\n",
    "        las=2,main = 'n. CFs / baseline',border=NA, ylab = 'ratio')\n",
    "abline(h=1,lty=2)"
   ]
  },
  {
   "cell_type": "markdown",
   "metadata": {},
   "source": [
    "## Comparison between methods accounting for BAGEL genes\n",
    "We perform the same pipeline shown above, but this time including the BAGEL gene sets used in the training phase of CEN-tools sets."
   ]
  },
  {
   "cell_type": "code",
   "execution_count": null,
   "metadata": {},
   "outputs": [],
   "source": [
    "## Essentials genes obtained with CENtools using BAGEL curated genes as reference sets (default nº bin = 20)\n",
    "load('data/CENtools_Essentials.RData')\n",
    "\n",
    "## CENtools\n",
    "data(curated_BAGEL_essential)\n",
    "CENtools_SV1_B20Q2_CERES <- c(CENtools_ess, curated_BAGEL_essential)\n",
    "\n",
    "## CENtools Sharma et al, 2020\n",
    "load('data/BAGEL_v2_Essentials.RData')\n",
    "CENtools_2020 <- read.table(file = 'data/CenTools_essential_Sharma_et_al.txt',sep='\\t',stringsAsFactors = FALSE)$V1\n",
    "CENtools_2020 <- c(CENtools_2020, BAGEL_essential)\n",
    "\n",
    "## ADaM essential Behan et al., 2019\n",
    "load('data/ADaM_CFs_Behan_et_Al_2019.RData')\n",
    "ADaM_2019<-PanCancerCoreFitnessGenes\n",
    "\n",
    "col=c(\"#03B2C8\",\"#034DD9\",\"#E6AB02\",\"#1B9E77\",\"#337100\",\"#FC8D62\",'black',\n",
    "      \"#F4CAE4\",'purple',\"#CAB2D6\",\"#BEBADA\",\"#777892\")\n",
    "names(col) <- c(\"Hart_2015\",\"Hart_2017\",\"Behan_2019\",\"Sharma_2020\",\"CENtools\",\"ADaM\",\n",
    "              \"F_Perc_Cons\",\"F_Perc_avg\",\"F_Perc_Cons_lax\",\"F_Perc_slope\",\"F_Perc_AUC\",\"F_Perc_fixed\")\n",
    "\n",
    "##### Ability to identify novel hits\n",
    "CFs_sets<-list(Behan_2019 = ADaM_2019,\n",
    "               Sharma_2020 = CENtools_2020,\n",
    "               CENtools = CENtools_SV1_B20Q2_CERES,\n",
    "               ADaM = ADaM,\n",
    "               F_Perc_avg = Perc_avg,\n",
    "               F_Perc_Cons_lax = Perc_Consensus,\n",
    "               F_Perc_slope = Perc_slope,\n",
    "               F_Perc_AUC = Perc_AUC,\n",
    "               F_Perc_fixed = Perc_fixed)\n",
    "\n",
    "## Assembling a set of prior known essential genes that are not included in the\n",
    "## training sets used by CENtools and/or ADaM\n",
    "signatures<-list(DNA_REPLICATION=EssGenes.DNA_REPLICATION_cons,\n",
    "                 RNA_POLYMERASE=EssGenes.KEGG_rna_polymerase,\n",
    "                 PROTEASOME=EssGenes.PROTEASOME_cons,\n",
    "                 SPLICEOSOME=EssGenes.SPLICEOSOME_cons,\n",
    "                 RIBOSOMAL_PROTS=EssGenes.ribosomalProteins,\n",
    "                 HISTONES=EssGenes.HISTONES)\n",
    "\n",
    "signatures<-unique(unlist(signatures))\n",
    "\n",
    "## Adding additional signatures in Pacini et al, 2020\n",
    "allRefEss<-unique(c(Kegg.DNArep,Kegg.Proteasome,Kegg.Ribosome,Kegg.RNApoly,Kegg.Spliceosome,Histones))\n",
    "\n",
    "signatures<-union(signatures,allRefEss)\n",
    "signatures <- intersect(signatures,geneSet)\n",
    "\n",
    "## baseline predictor\n",
    "baselineCFs <- lapply(1:ncol(bdep),function(x){\n",
    "  names(which(rowSums(bdep)>=x))\n",
    "})\n",
    "\n",
    "baselineSizes<-unlist(lapply(baselineCFs,length))\n",
    "\n",
    "baselineRecalls<-100*unlist(lapply(baselineCFs,function(x){\n",
    "  length(intersect(x,signatures))/length(signatures)\n",
    "}))\n",
    "\n",
    "## genes not expressed\n",
    "lowlyExp<-names(which(rowSums(CMP_RNAseq<0.01,na.rm=TRUE)>=ncol(CMP_RNAseq)))\n",
    "\n",
    "## dependency associated with biomarkers\n",
    "FPs <- sort(unique(unlist(read.table('data/dependency_with_biomarkers.txt',stringsAsFactors = FALSE))))\n",
    "FPs <- union(FPs,lowlyExp)\n",
    "FPs <- intersect(FPs,geneSet_noBAG)\n",
    "\n",
    "baselineNEratio<-100*unlist(lapply(baselineCFs,function(x){\n",
    "  length(intersect(x,FPs))/length(FPs)\n",
    "}))\n",
    "\n",
    "plot(baselineSizes,xlab='Baseline predictor of CF genes (essentials in >= n cell lines)', \n",
    "     ylab='n. of predicted CF genes',pch=16,log='y', main = \"BAGEL genes included\")\n",
    "\n",
    "plot(baselineRecalls,xlab='Baseline predictor of CF genes (essentials in >= n cell lines)',\n",
    "     ylab='% Recall of prior known essential genes not used for training',pch=16)\n",
    "\n",
    "plot(baselineNEratio,xlab='Baseline predictor of CF genes (essentials in >= n cell lines)',\n",
    "     ylab='% Recall of selective essentials (associated with a biomarker)',pch=16)"
   ]
  },
  {
   "cell_type": "code",
   "execution_count": null,
   "metadata": {},
   "outputs": [],
   "source": [
    "fCFs_sets <- CFs_sets\n",
    "\n",
    "observed_recalls<-100*unlist(lapply(fCFs_sets,\n",
    "                                    function(x){length(intersect(x,signatures))/length(signatures)}))\n",
    "\n",
    "observed_FPs<-100*unlist(lapply(fCFs_sets,\n",
    "                                function(x){length(intersect(x,FPs))/length(FPs)}))\n",
    "\n",
    "par(mar=c(8,6,4,4))\n",
    "barplot(observed_recalls/max(baselineRecalls),col=col[names(observed_recalls)],\n",
    "        las=2,ylab='Recall / (max Recall)',border=NA,main = 'Prior known essential with training genes included')\n",
    "\n",
    "barplot(observed_FPs/max(baselineNEratio),col=col[names(observed_FPs)],\n",
    "        las=2,ylab='Recall / (max Recall)', border=NA, main = 'False positive CFs')"
   ]
  },
  {
   "cell_type": "code",
   "execution_count": null,
   "metadata": {},
   "outputs": [],
   "source": [
    "plot(spline(baselineRecalls,baselineNEratio),pch=16,\n",
    "     xlab='% Recall of prior known essentials',\n",
    "     ylab='% Recall of selective essentials (associated with a biomarker)',type='l',lwd=4,\n",
    "     xlim=c(40,70),ylim=c(0,6))\n",
    "\n",
    "points(observed_recalls,observed_FPs,col=col[names(observed_FPs)],pch=16,cex=2)\n",
    "\n",
    "s0fun<-splinefun(baselineRecalls,baselineNEratio)\n",
    "\n",
    "par(mar=c(8,6,4,4))\n",
    "barplot(observed_FPs/s0fun(observed_recalls),col=col[names(observed_FPs)],\n",
    "        las=2,border=NA,ylab='False CFs at fixed Recall of TPs / baseline')\n",
    "abline(h=1,lty=2)"
   ]
  },
  {
   "cell_type": "code",
   "execution_count": null,
   "metadata": {},
   "outputs": [],
   "source": [
    "baselineRecalls<-100*unlist(lapply(baselineCFs,function(x){\n",
    "  length(intersect(x,signatures))/length(signatures)\n",
    "}))\n",
    "\n",
    "par(mar=c(8,6,4,2))\n",
    "plot(baselineRecalls,xlab='Baseline predictor of CF genes (essentials in >= n cell lines)',\n",
    "     ylab='% Recall of prior known essential genes',pch=16)\n",
    "\n",
    "s0fun<-splinefun(baselineRecalls,1:length(baselineRecalls))\n",
    "abline(v=s0fun(observed_recalls),col=col[names(observed_recalls)],lwd=2)\n",
    "\n",
    "baseline_dep_cell_lines<-s0fun(observed_recalls)\n",
    "\n",
    "median_n_dependent_cell_lines<-\n",
    "  unlist(lapply(fCFs_sets,function(x){median(rowSums(bdep[intersect(x,geneSet),]))}))\n",
    "\n",
    "barplot(median_n_dependent_cell_lines/baseline_dep_cell_lines,col=col[names(median_n_dependent_cell_lines)],\n",
    "        las=2, border=NA,main = 'Median dependent cell lines on the CFs / baseline', ylab = 'ratio')\n",
    "abline(h=1,lty=2)"
   ]
  },
  {
   "cell_type": "code",
   "execution_count": null,
   "metadata": {},
   "outputs": [],
   "source": [
    "observed_sizes<-lapply(CFs_sets,length)\n",
    "\n",
    "median_dep <- unlist(lapply(CFs_sets,\n",
    "                function(x){median(apply(scaled_depFC[intersect(x,geneSet),],1,median))}))\n",
    "\n",
    "baseline_dep <- unlist(lapply(baselineCFs[round(s0fun(observed_recalls))],\n",
    "                function(x){median(apply(scaled_depFC[intersect(x,geneSet),],1,median))}))\n",
    "\n",
    "par(mar=c(8,6,4,2))\n",
    "barplot(median_dep/baseline_dep,col=col[names(median_dep)],\n",
    "        las=2,main = 'Median CFs fitness effect / baseline', border=NA, ylab = 'ratio')\n",
    "abline(h=1,lty=2)\n",
    "\n",
    "baseline_size<-unlist(lapply(baselineCFs[round(s0fun(observed_recalls))],length))\n",
    "observed_sizes<-unlist(observed_sizes)\n",
    "\n",
    "barplot(observed_sizes/baseline_size,col=col[names(observed_sizes)],\n",
    "        las=2,main = 'n. CFs / baseline',border=NA, ylab = 'ratio')\n",
    "abline(h=1,lty=2)"
   ]
  },
  {
   "cell_type": "markdown",
   "metadata": {},
   "source": [
    "\n",
    "---\n",
    "\n",
    "__References__ <br>\n",
    "\n",
    "[1] Hart T, Brown KR, Sircoulomb F, Rottapel R, Moffat J. Measuring error rates in genomic perturbation screens: gold standards for human functional genomics. Mol Syst Biol. 2014;10:733.<br>\n",
    "[2] Hart T, Tong AHY, Chan K, Van Leeuwen J, Seetharaman A, Aregger M, et al. Evaluation and Design of Genome-Wide CRISPR/SpCas9 Knockout Screens. G3. 2017;7:2719–27.<br>\n",
    "[3] Sharma S, Dincer C, Weidemüller P, Wright GJ, Petsalaki E. CEN-tools: an integrative platform to identify the contexts of essential genes. Mol Syst Biol. 2020;16:e9698.<br>\n",
    "[4] Pacini C, Dempster JM, Boyle I, Gonçalves E, Najgebauer H, Karakoc E, et al. Integrated cross-study datasets of genetic dependencies in cancer. Nat Commun. 2021;12:1661.<br>\n",
    "[5] Behan FM, Iorio F, Picco G, Gonçalves E, Beaver CM, Migliardi G, et al. Prioritization of cancer therapeutic targets using CRISPR-Cas9 screens. Nature. 2019;568:511–6.<br>\n",
    "[6] Meyers RM, Bryan JG, McFarland JM, Weir BA, Sizemore AE, Xu H, et al. Computational correction of copy number effect improves specificity of CRISPR–Cas9 essentiality screens in cancer cells. Nat Genet. 2017;49:1779–84.<br>\n",
    "[7] Iorio F, Behan FM, Gonçalves E, Bhosle SG, Chen E, Shepherd R, et al. Unsupervised correction of gene-independent cell responses to CRISPR-Cas9 targeting. BMC Genomics. 2018;19:604.<br>\n",
    "[8] Iorio F, Knijnenburg TA, Vis DJ, Bignell GR, Menden MP, Schubert M, et al. A Landscape of Pharmacogenomic Interactions in Cancer. Cell. 2016;166:740–54.<br>\n",
    "[9] Martínez-Jiménez F, Muiños F, Sentís I, Deu-Pons J, Reyes-Salazar I, Arnedo-Pac C, et al. A compendium of mutational cancer driver genes. Nat Rev Cancer. 2020;20:555–72.<br>\n",
    "[10] van der Meer D, Barthorpe S, Yang W, Lightfoot H, Hall C, Gilbert J, et al. Cell Model Passports—a hub for clinical, genetic and functional datasets of preclinical cancer models. Nucleic Acids Res. 2019;47:D923–9.\n",
    "[11] Hart T, Chandrashekhar M, Aregger M, Steinhart Z, Brown KR, MacLeod G, et al. High-Resolution CRISPR Screens Reveal Fitness Genes and Genotype-Specific Cancer Liabilities. Cell. 2015;163:1515–26.\n",
    "[12] Hart T, Moffat J. BAGEL: a computational framework for identifying essential genes from pooled library screens. BMC Bioinformatics. 2016;17:164.\n",
    "[13] Dwane L, Behan FM, Gonçalves E, Lightfoot H, Yang W, van der Meer D, et al. Project Score database: a resource for investigating cancer cell dependencies and prioritizing therapeutic targets. Nucleic Acids Res. 2021;49:D1365–72."
   ]
  },
  {
   "cell_type": "code",
   "execution_count": null,
   "metadata": {},
   "outputs": [],
   "source": []
  }
 ],
 "metadata": {
  "kernelspec": {
   "display_name": "R",
   "language": "R",
   "name": "ir"
  },
  "language_info": {
   "codemirror_mode": "r",
   "file_extension": ".r",
   "mimetype": "text/x-r-source",
   "name": "R",
   "pygments_lexer": "r",
   "version": "3.5.2"
  }
 },
 "nbformat": 4,
 "nbformat_minor": 4
}
